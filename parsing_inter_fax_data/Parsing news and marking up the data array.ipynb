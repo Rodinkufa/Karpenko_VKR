{
 "cells": [
  {
   "cell_type": "code",
   "execution_count": 65,
   "id": "18174bc2",
   "metadata": {},
   "outputs": [
    {
     "name": "stdout",
     "output_type": "stream",
     "text": [
      "Collecting telethon\n",
      "  Obtaining dependency information for telethon from https://files.pythonhosted.org/packages/2c/5a/c5370edb3215d19a6e858f4169b8eec725ba55f9d39df0f557508048c037/Telethon-1.40.0-py3-none-any.whl.metadata\n",
      "  Downloading Telethon-1.40.0-py3-none-any.whl.metadata (3.9 kB)\n",
      "Collecting pyaes (from telethon)\n",
      "  Downloading pyaes-1.6.1.tar.gz (28 kB)\n",
      "  Preparing metadata (setup.py): started\n",
      "  Preparing metadata (setup.py): finished with status 'done'\n",
      "Collecting rsa (from telethon)\n",
      "  Obtaining dependency information for rsa from https://files.pythonhosted.org/packages/64/8d/0133e4eb4beed9e425d9a98ed6e081a55d195481b7632472be1af08d2f6b/rsa-4.9.1-py3-none-any.whl.metadata\n",
      "  Downloading rsa-4.9.1-py3-none-any.whl.metadata (5.6 kB)\n",
      "Requirement already satisfied: pyasn1>=0.1.3 in c:\\games\\anaconda3\\lib\\site-packages (from rsa->telethon) (0.4.8)\n",
      "Downloading Telethon-1.40.0-py3-none-any.whl (722 kB)\n",
      "   ---------------------------------------- 0.0/722.0 kB ? eta -:--:--\n",
      "   --- ------------------------------------ 61.4/722.0 kB 1.7 MB/s eta 0:00:01\n",
      "   ----------- ---------------------------- 204.8/722.0 kB 2.5 MB/s eta 0:00:01\n",
      "   ------------------------ --------------- 450.6/722.0 kB 3.1 MB/s eta 0:00:01\n",
      "   ----------------------------------- ---- 645.1/722.0 kB 4.1 MB/s eta 0:00:01\n",
      "   ---------------------------------------- 722.0/722.0 kB 3.3 MB/s eta 0:00:00\n",
      "Downloading rsa-4.9.1-py3-none-any.whl (34 kB)\n",
      "Building wheels for collected packages: pyaes\n",
      "  Building wheel for pyaes (setup.py): started\n",
      "  Building wheel for pyaes (setup.py): finished with status 'done'\n",
      "  Created wheel for pyaes: filename=pyaes-1.6.1-py3-none-any.whl size=26360 sha256=dc163a501f5af688895cc8807570a1bc2e8fa36738e9b5f1677f9de3cf953f73\n",
      "  Stored in directory: c:\\users\\ольга\\appdata\\local\\pip\\cache\\wheels\\4e\\52\\33\\010d0843550bffb6a591b11629070ae140c0ad4f53e68a3bd3\n",
      "Successfully built pyaes\n",
      "Installing collected packages: pyaes, rsa, telethon\n",
      "Successfully installed pyaes-1.6.1 rsa-4.9.1 telethon-1.40.0\n",
      "Note: you may need to restart the kernel to use updated packages.\n"
     ]
    }
   ],
   "source": [
    "pip install telethon"
   ]
  },
  {
   "cell_type": "markdown",
   "id": "2f38bd70",
   "metadata": {},
   "source": [
    "## Test may"
   ]
  },
  {
   "cell_type": "code",
   "execution_count": 77,
   "id": "84856463",
   "metadata": {},
   "outputs": [
    {
     "name": "stdout",
     "output_type": "stream",
     "text": [
      "Please enter your phone (or bot token): +79297555563\n",
      "Please enter the code you received: 66072\n",
      "Signed in successfully as Родион Карпенко; remember to not break the ToS or you will risk an account ban!\n",
      "✅ Авторизация прошла успешно!\n",
      "                    Дата                                              Текст\n",
      "0    2025-05-23 17:26:40  **Краткий обзор экономической повестки дня:**\\...\n",
      "1    2025-05-23 15:57:40  🇷🇺**Рынок акций РФ завершил пятницу и неделю с...\n",
      "2    2025-05-23 15:07:47  🛢**Brent подорожала до $64,8 за баррель**\\n\\nЦ...\n",
      "3    2025-05-23 15:03:55  **Совет директоров ПАО \"Россети\" рекомендовал ...\n",
      "4    2025-05-23 14:45:41  ⚖️**ЦБ уличил гендиректора МГКЛ в инсайдерских...\n",
      "..                   ...                                                ...\n",
      "283  2025-05-02 10:13:59  🇪🇺**Инфляция в еврозоне в апреле составила 2,2...\n",
      "284  2025-05-02 07:19:14  **Apple увеличила чистую прибыль и выручку во ...\n",
      "285  2025-05-02 07:15:11  **Рубль утром снижается в паре с юанем**\\n\\nПо...\n",
      "286  2025-05-02 07:07:47  🇷🇺**Рынок акций РФ открылся в основную сессию ...\n",
      "287  2025-05-02 06:00:14  🇺🇸**Фондовые индексы США выросли в четверг на ...\n",
      "\n",
      "[288 rows x 2 columns]\n",
      "✅ Данные за май успешно сохранены в ifax_go_may_2025.csv\n"
     ]
    }
   ],
   "source": [
    "import asyncio\n",
    "import pandas as pd\n",
    "import os\n",
    "from telethon import TelegramClient\n",
    "\n",
    "# Authorization data\n",
    "api_id = 24874969\n",
    "api_hash = '7a055351ac0400bb75f42cee95399e52'\n",
    "session_name = 'my_session'\n",
    "channel_username = '@ifax_go'\n",
    "\n",
    "from datetime import datetime\n",
    "date_from = datetime(2025, 5, 1)\n",
    "date_to = datetime(2025, 5, 31, 23, 59, 59)\n",
    "\n",
    "async def main():\n",
    "    client = TelegramClient(session_name, api_id, api_hash)\n",
    "    await client.start()\n",
    "    print(\"✅ Авторизация прошла успешно!\")\n",
    "\n",
    "    messages_data = []\n",
    "    async for message in client.iter_messages(channel_username, limit=None):\n",
    "        if message.date.replace(tzinfo=None) < date_from:\n",
    "            break  \n",
    "        if date_from <= message.date.replace(tzinfo=None) <= date_to:\n",
    "            messages_data.append({\n",
    "                'Дата': message.date.strftime('%Y-%m-%d %H:%M:%S'),\n",
    "                'Текст': message.text\n",
    "            })\n",
    "\n",
    "    df = pd.DataFrame(messages_data)\n",
    "    print(df)\n",
    "    df.to_csv('ifax_go_may_2025.csv', index=False, encoding='utf-8-sig')\n",
    "    print(\"✅ Data for May has been successfully saved in ifax_go_may_2025.csv\")\n",
    "\n",
    "if __name__ == '__main__':\n",
    "    try:\n",
    "        loop = asyncio.get_event_loop()\n",
    "        if loop.is_running():\n",
    "            import nest_asyncio\n",
    "            nest_asyncio.apply()\n",
    "            loop.run_until_complete(main())\n",
    "        else:\n",
    "            loop.run_until_complete(main())\n",
    "    except Exception as e:\n",
    "        print(\"❌Launch error:\", e)\n",
    "        if os.path.exists(f\"{session_name}.session\"):\n",
    "            os.remove(f\"{session_name}.session\")\n",
    "            print(\"⚠️ The old session has been deleted. Restart the script to re-authorize.\")\n"
   ]
  },
  {
   "cell_type": "markdown",
   "id": "185cb9b3-19d0-4932-9c26-c4e752b000cd",
   "metadata": {},
   "source": [
    "## 2025-01-01 to 2025-05-25"
   ]
  },
  {
   "cell_type": "code",
   "execution_count": 3,
   "id": "b940c402",
   "metadata": {},
   "outputs": [
    {
     "name": "stdout",
     "output_type": "stream",
     "text": [
      "Please enter your phone (or bot token): +79966765780\n",
      "Please enter the code you received: 66117\n",
      "Signed in successfully as Родион Карпенко; remember to not break the ToS or you will risk an account ban!\n",
      "✅ Successfully logged in!\n",
      "🔎 Starting fetch for 2025_04\n",
      "✅ Data for 2025_04 has been saved to ifax_go_2025_04.csv\n"
     ]
    },
    {
     "name": "stderr",
     "output_type": "stream",
     "text": [
      "Server closed the connection: 0 bytes read on a total of 8 expected bytes\n",
      "Server closed the connection: 0 bytes read on a total of 8 expected bytes\n",
      "Server closed the connection: 0 bytes read on a total of 8 expected bytes\n",
      "Server closed the connection: 0 bytes read on a total of 8 expected bytes\n",
      "Server closed the connection: 0 bytes read on a total of 8 expected bytes\n",
      "Server closed the connection: 0 bytes read on a total of 8 expected bytes\n",
      "Server closed the connection: 0 bytes read on a total of 8 expected bytes\n",
      "Server closed the connection: 0 bytes read on a total of 8 expected bytes\n"
     ]
    }
   ],
   "source": [
    "import asyncio\n",
    "import os\n",
    "from datetime import datetime, timedelta\n",
    "import pandas as pd\n",
    "from telethon import TelegramClient\n",
    "\n",
    "api_id = 24874969\n",
    "api_hash = '7a055351ac0400bb75f42cee95399e52'\n",
    "session_name = 'my_session'\n",
    "channel_username = '@ifax_go'\n",
    "\n",
    "month = [1, 2, 3, 4]\n",
    "\n",
    "async def fetch_messages_for_month(client, start_date, end_date, month_label):\n",
    "    print(f\"🔎 Starting fetch for {month_label}\")\n",
    "    messages_data = []\n",
    "    entity = await client.get_entity(channel_username)\n",
    "    async for message in client.iter_messages(entity, limit=None):\n",
    "        if message.date.replace(tzinfo=None) < start_date:\n",
    "            break\n",
    "        if start_date <= message.date.replace(tzinfo=None) <= end_date:\n",
    "            messages_data.append({\n",
    "                'Date': message.date.strftime('%Y-%m-%d %H:%M:%S'),\n",
    "                'Text': message.text\n",
    "            })\n",
    "\n",
    "    df = pd.DataFrame(messages_data)\n",
    "    if not df.empty:\n",
    "        filename = f\"ifax_go_{month_label}.csv\"\n",
    "        df.to_csv(filename, index=False, encoding='utf-8-sig')\n",
    "        print(f\"✅ Data for {month_label} has been saved to {filename}\")\n",
    "    else:\n",
    "        print(f\"⚠️ No data found for {month_label}\")\n",
    "\n",
    "async def main():\n",
    "    client = TelegramClient(session_name, api_id, api_hash)\n",
    "    await client.start()\n",
    "    print(\"✅ Successfully logged in!\")\n",
    "\n",
    "    start_date = datetime(2025, month, 1)\n",
    "    next_month = start_date.replace(day=28) + timedelta(days=4)\n",
    "    end_date = next_month - timedelta(days=next_month.day)\n",
    "    month_label = start_date.strftime('%Y_%m')\n",
    "\n",
    "    await fetch_messages_for_month(client, start_date, end_date, month_label)\n",
    "\n",
    "if __name__ == '__main__':\n",
    "    asyncio.run(main())"
   ]
  },
  {
   "cell_type": "markdown",
   "id": "9ba6e53b-0c40-4db6-ae31-4470240ad97e",
   "metadata": {},
   "source": [
    "## Data markup"
   ]
  },
  {
   "cell_type": "code",
   "execution_count": 3,
   "id": "eac37113-b41f-40c3-81a5-3e2b2285f747",
   "metadata": {},
   "outputs": [
    {
     "name": "stdout",
     "output_type": "stream",
     "text": [
      "File successfully saved: C:\\Users\\Ольга\\ВКР Карпенко\\Inter_fax_data\\filtered_interfax_data.xlsx\n"
     ]
    }
   ],
   "source": [
    "import pandas as pd\n",
    "import os\n",
    "\n",
    "# Specify the folder path containing the CSV files\n",
    "folder_path = r\"C:\\Users\\Карпенко\\ВКР Карпенко\\Inter_fax_data\"  # Replace with your actual path\n",
    "\n",
    "# List of file names to combine (you can automate this with os.listdir if needed)\n",
    "files = [\n",
    "    \"ifax_go_2025_01.csv\",\n",
    "    \"ifax_go_2025_02.csv\",\n",
    "    \"ifax_go_2025_03.csv\",\n",
    "    \"ifax_go_2025_04.csv\",\n",
    "    \"ifax_go_may_2025.csv\"\n",
    "]\n",
    "\n",
    "# Read and combine all CSV files into a single DataFrame\n",
    "df_list = []\n",
    "for file in files:\n",
    "    file_path = os.path.join(folder_path, file)\n",
    "    df = pd.read_csv(file_path)\n",
    "    df_list.append(df)\n",
    "\n",
    "# Combine all dataframes into one\n",
    "full_df = pd.concat(df_list, ignore_index=True)\n",
    "\n",
    "# Apply filter to remove entries containing specific keywords \n",
    "# The filter removes rows where the 'Текст' column contains any of the specified keywords:\n",
    "# \"дайджест\", \"прогноз\" , or \"краткий обзор экономической повестки дня\" \n",
    "filtered_df = full_df[~full_df['Текст'].str.contains(\"дайджест|краткий обзор экономической повестки дня\", case=False, na=False)]\n",
    "\n",
    "# Remove duplicate entries based on the 'Текст' column to avoid repeated messages\n",
    "# This assumes that if two rows have the same 'Текст', they are duplicates\n",
    "filtered_df = filtered_df.drop_duplicates(subset=['Текст'])\n",
    "\n",
    "# Save the filtered and deduplicated dataframe to Excel\n",
    "output_file = os.path.join(folder_path, \"filtered_interfax_data.xlsx\")\n",
    "filtered_df.to_excel(output_file, index=False)\n",
    "\n",
    "print(f\"File successfully saved: {output_file}\")"
   ]
  },
  {
   "cell_type": "code",
   "execution_count": 14,
   "id": "64ffc073-3141-4ffa-b058-a6589d78f377",
   "metadata": {},
   "outputs": [
    {
     "name": "stdout",
     "output_type": "stream",
     "text": [
      "Filtered April data successfully saved to: C:\\Users\\Ольга\\ВКР Карпенко\\Inter_fax_data\\filtered_interfax_april_data.xlsx\n"
     ]
    }
   ],
   "source": [
    "# april\n",
    "import pandas as pd\n",
    "import os\n",
    "\n",
    "# Specify the path to the April file\n",
    "april_file_path = r\"C:\\Users\\Карпенко\\ВКР Карпенко\\Inter_fax_data\\ifax_go_2025_04.csv\"  \n",
    "\n",
    "# Read the April data\n",
    "april_df = pd.read_csv(april_file_path)\n",
    "\n",
    "# Convert 'Дата' column to datetime if needed\n",
    "april_df['Date'] = pd.to_datetime(april_df['Date'], errors='coerce')\n",
    "\n",
    "filtered_april_df = april_df[~april_df['Text'].str.contains(\"дайджест|краткий обзор экономической повестки дня\", case=False, na=False)]\n",
    "\n",
    "filtered_april_df = filtered_april_df.drop_duplicates(subset=['Text'])\n",
    "\n",
    "filtered_april_output_file = r\"C:\\Users\\Карпенко\\ВКР Карпенко\\Inter_fax_data\\filtered_interfax_april_data.xlsx\"\n",
    "filtered_april_df.to_excel(filtered_april_output_file, index=False)\n",
    "\n",
    "print(f\"Filtered April data successfully saved to: {filtered_april_output_file}\")"
   ]
  },
  {
   "cell_type": "markdown",
   "id": "22ff6e1a",
   "metadata": {},
   "source": [
    "## Sample markup logic"
   ]
  },
  {
   "cell_type": "markdown",
   "id": "5c760cb0-3097-4851-a5f9-e7582e250e4c",
   "metadata": {},
   "source": [
    "1. Main Idea\n",
    "Mark a news item as a \"signal\" for a specific company if it contains information that can significantly impact its market position or financial performance. Specifically, a signal includes publications about:\n",
    "\n",
    "2. Key Categories for Annotation\n",
    "- Financial Reporting\n",
    "\n",
    "Publications of annual, quarterly, or interim financial reports of the company.\n",
    "\n",
    "Information on changes in revenue, profit, debt, expenses, etc.\n",
    "\n",
    "Releases with forecasts or adjustments of financial figures.\n",
    "\n",
    "- Board of Directors Decisions\n",
    "Dividend recommendations (e.g., payout or no payout).\n",
    "\n",
    "Changes to dividend policies.\n",
    "\n",
    "Appointments or changes in the board of directors.\n",
    "\n",
    "Other significant corporate decisions (e.g., strategic alliances, M&A deals).\n",
    "\n",
    "- Corporate Policy and Changes\n",
    "Adoption of new development strategies.\n",
    "\n",
    "Amendments to the company’s charter, rebranding, major investments.\n",
    "\n",
    "Announcements of major contracts, partnerships, or innovations.\n",
    "\n",
    "- Regulator and Government Decisions\n",
    "Decisions by government bodies (e.g., Central Bank, antitrust authorities) affecting the company.\n",
    "\n",
    "New requirements, fines, licenses, permits, or restrictions that may impact the company.\n",
    "\n",
    "Regulatory publications affecting the industry or the company.\n",
    "\n"
   ]
  },
  {
   "cell_type": "code",
   "execution_count": null,
   "id": "4a5379f3-0065-4497-9811-19aad6998020",
   "metadata": {},
   "outputs": [],
   "source": []
  }
 ],
 "metadata": {
  "kernelspec": {
   "display_name": "Python 3 (ipykernel)",
   "language": "python",
   "name": "python3"
  },
  "language_info": {
   "codemirror_mode": {
    "name": "ipython",
    "version": 3
   },
   "file_extension": ".py",
   "mimetype": "text/x-python",
   "name": "python",
   "nbconvert_exporter": "python",
   "pygments_lexer": "ipython3",
   "version": "3.11.5"
  }
 },
 "nbformat": 4,
 "nbformat_minor": 5
}
